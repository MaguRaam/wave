{
  "nbformat": 4,
  "nbformat_minor": 0,
  "metadata": {
    "colab": {
      "name": "Copy of standing_wave.ipynb",
      "provenance": [],
      "collapsed_sections": []
    },
    "kernelspec": {
      "name": "python3",
      "display_name": "Python 3"
    }
  },
  "cells": [
    {
      "cell_type": "code",
      "metadata": {
        "id": "8Gt7npU3wlRd",
        "colab_type": "code",
        "colab": {}
      },
      "source": [
        "from mpl_toolkits.mplot3d import Axes3D\n",
        "import numpy\n",
        "from matplotlib import pyplot, cm\n",
        "%matplotlib inline\n",
        "from math import log"
      ],
      "execution_count": 1,
      "outputs": []
    },
    {
      "cell_type": "code",
      "metadata": {
        "id": "uO7KPQfbHJwW",
        "colab_type": "code",
        "colab": {}
      },
      "source": [
        "def convergence_plot(Ngpts,l2,linfty):\n",
        "  fig,ax = pyplot.subplots()\n",
        "  pyplot.loglog(N, linfty,'-b',label = 'Linfty error',marker = 'o')\n",
        "  pyplot.loglog(N, l2,'--r',label = 'L2 error',marker = 'o')\n",
        "  leg = ax.legend()\n",
        "  pyplot.title(\"Convergence in space\")\n",
        "  pyplot.xlabel(\"N\")\n",
        "  pyplot.ylabel(\"Error\")"
      ],
      "execution_count": 2,
      "outputs": []
    },
    {
      "cell_type": "code",
      "metadata": {
        "id": "WjlXeB_9I6xm",
        "colab_type": "code",
        "colab": {}
      },
      "source": [
        "def convergence_rate(error):\n",
        "  for i in range(1,numpy.size(error)):\n",
        "    covergence_rate = (log(error[i-1]) - log(error[i]))/log(2)\n",
        "    print(covergence_rate)"
      ],
      "execution_count": 3,
      "outputs": []
    },
    {
      "cell_type": "markdown",
      "metadata": {
        "id": "y8HbNWxQFC1R",
        "colab_type": "text"
      },
      "source": [
        "# **Grid convergence for standing wave n = 1**\n",
        "\n",
        "---\n",
        "\n",
        "\n"
      ]
    },
    {
      "cell_type": "code",
      "metadata": {
        "id": "XncVaj_5xH0s",
        "colab_type": "code",
        "colab": {
          "base_uri": "https://localhost:8080/",
          "height": 299
        },
        "outputId": "396362bb-8f1d-4a24-cc73-05a705f577e7"
      },
      "source": [
        "N  = numpy.array([8,16,32,64,128,256])\n",
        "linfty = numpy.array([0.392384,0.12076,0.0313807,0.00739836, 0.00178187, 0.000438646])  \n",
        "l2     = numpy.array([0.418684,0.120747,0.0301357,0.00728952, 0.00177594, 0.000437259])\n",
        "convergence_plot(N,l2,linfty)\n"
      ],
      "execution_count": 4,
      "outputs": [
        {
          "output_type": "display_data",
          "data": {
            "image/png": "[encoded data removed]",
            "text/plain": [
              "<Figure size 432x288 with 1 Axes>"
            ]
          },
          "metadata": {
            "tags": [],
            "needs_background": "light"
          }
        }
      ]
    },
    {
      "cell_type": "code",
      "metadata": {
        "id": "C4TWdEPuKQBg",
        "colab_type": "code",
        "colab": {
          "base_uri": "https://localhost:8080/",
          "height": 121
        },
        "outputId": "71f0655a-dd7e-4136-ef29-4835dd22e323"
      },
      "source": [
        "#L2 rate of convergence\n",
        "print(\"L2 Rate of convergence:\")\n",
        "convergence_rate(l2)\n"
      ],
      "execution_count": 5,
      "outputs": [
        {
          "output_type": "stream",
          "text": [
            "L2 Rate of convergence:\n",
            "1.7938744413111356\n",
            "2.0024418636650188\n",
            "2.047577852211744\n",
            "2.037240977991324\n",
            "2.022022856946701\n"
          ],
          "name": "stdout"
        }
      ]
    },
    {
      "cell_type": "code",
      "metadata": {
        "id": "rD6PCQm5NLBG",
        "colab_type": "code",
        "colab": {
          "base_uri": "https://localhost:8080/",
          "height": 121
        },
        "outputId": "8dae5dbc-95ef-4336-ce16-c67d225398ce"
      },
      "source": [
        "print(\"Linfty Rate of convergence\")\n",
        "convergence_rate(linfty)"
      ],
      "execution_count": 6,
      "outputs": [
        {
          "output_type": "stream",
          "text": [
            "Linfty Rate of convergence\n",
            "1.7001235529077796\n",
            "1.944193222414715\n",
            "2.0846001264321097\n",
            "2.05381341698438\n",
            "2.0222630680721405\n"
          ],
          "name": "stdout"
        }
      ]
    },
    {
      "cell_type": "markdown",
      "metadata": {
        "id": "IRDn-G0TIBVp",
        "colab_type": "text"
      },
      "source": [
        "# **Grid convergence for standing wave n = 2**"
      ]
    },
    {
      "cell_type": "code",
      "metadata": {
        "id": "kZhpMJcGHBC0",
        "colab_type": "code",
        "colab": {
          "base_uri": "https://localhost:8080/",
          "height": 299
        },
        "outputId": "5dc53b40-6fb4-43a9-c3bd-229c28ca6337"
      },
      "source": [
        "N  = numpy.array([8,16,32,64,128,256])\n",
        "linfty = numpy.array([0.777613,0.168252,0.0343988,0.00785853,0.00188386,0.000464189])  \n",
        "l2     = numpy.array([0.770049,0.157206,0.0332781,0.00771554,0.0018724,0.000462511])\n",
        "convergence_plot(N,l2,linfty)"
      ],
      "execution_count": 7,
      "outputs": [
        {
          "output_type": "display_data",
          "data": {
            "image/png": "[encoded data removed]",
            "text/plain": [
              "<Figure size 432x288 with 1 Axes>"
            ]
          },
          "metadata": {
            "tags": [],
            "needs_background": "light"
          }
        }
      ]
    },
    {
      "cell_type": "code",
      "metadata": {
        "id": "etYb2skvOAgM",
        "colab_type": "code",
        "colab": {
          "base_uri": "https://localhost:8080/",
          "height": 121
        },
        "outputId": "e62893ef-88bb-4ac5-a768-671c604fc6ce"
      },
      "source": [
        "#L2 rate of convergence\n",
        "print(\"L2 Rate of convergence:\")\n",
        "convergence_rate(l2)"
      ],
      "execution_count": 8,
      "outputs": [
        {
          "output_type": "stream",
          "text": [
            "L2 Rate of convergence:\n",
            "2.2922939695108315\n",
            "2.2400113104035073\n",
            "2.108734028047975\n",
            "2.0428784624026477\n",
            "2.0173290870820373\n"
          ],
          "name": "stdout"
        }
      ]
    },
    {
      "cell_type": "code",
      "metadata": {
        "id": "7g_nz_R4OF4o",
        "colab_type": "code",
        "colab": {
          "base_uri": "https://localhost:8080/",
          "height": 121
        },
        "outputId": "1c1864df-c8da-4a9b-c21b-a1110633cbfc"
      },
      "source": [
        "print(\"Linfty Rate of convergence\")\n",
        "convergence_rate(linfty)"
      ],
      "execution_count": 9,
      "outputs": [
        {
          "output_type": "stream",
          "text": [
            "Linfty Rate of convergence\n",
            "2.2084286837174827\n",
            "2.2901935115636487\n",
            "2.130026862127441\n",
            "2.060567715908912\n",
            "2.0209075140256907\n"
          ],
          "name": "stdout"
        }
      ]
    },
    {
      "cell_type": "code",
      "metadata": {
        "id": "meauRvYaOJvE",
        "colab_type": "code",
        "colab": {}
      },
      "source": [
        ""
      ],
      "execution_count": 9,
      "outputs": []
    }
  ]
}